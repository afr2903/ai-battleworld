{
 "cells": [
  {
   "cell_type": "code",
   "execution_count": 1,
   "metadata": {},
   "outputs": [],
   "source": [
    "import os\n",
    "from openai import OpenAI\n",
    "from dotenv import load_dotenv\n",
    "\n",
    "load_dotenv()\n",
    "client = OpenAI(\n",
    "    api_key=os.getenv('OPENAI_API_KEY')\n",
    ")"
   ]
  },
  {
   "cell_type": "code",
   "execution_count": 2,
   "metadata": {},
   "outputs": [
    {
     "name": "stdout",
     "output_type": "stream",
     "text": [
      "file-EEoJR23JtdzTLfXpevnOzdsZ\n"
     ]
    }
   ],
   "source": [
    "### Upload a training file\n",
    "filename = client.files.create(\n",
    "    file=open(\"nlp-dataset.json\", \"rb\"),\n",
    "    purpose=\"fine-tune\"\n",
    ")\n",
    "print(filename.id)"
   ]
  },
  {
   "cell_type": "code",
   "execution_count": 3,
   "metadata": {},
   "outputs": [
    {
     "name": "stdout",
     "output_type": "stream",
     "text": [
      "ftjob-Gc812IDpCQMXpJL9adf6L1dr\n"
     ]
    }
   ],
   "source": [
    "### Create a fine-tuned model\n",
    "job = client.fine_tuning.jobs.create(\n",
    "    training_file=filename.id,\n",
    "    model=\"gpt-3.5-turbo-0125\",\n",
    "    suffix=\"roborregos\"\n",
    ")\n",
    "print(job.id)"
   ]
  },
  {
   "cell_type": "code",
   "execution_count": 6,
   "metadata": {},
   "outputs": [
    {
     "name": "stdout",
     "output_type": "stream",
     "text": [
      "FineTuningJob(id='ftjob-Gc812IDpCQMXpJL9adf6L1dr', created_at=1712375310, error=Error(code=None, message=None, param=None, error=None), fine_tuned_model=None, finished_at=None, hyperparameters=Hyperparameters(n_epochs=3, batch_size=1, learning_rate_multiplier=8), model='gpt-3.5-turbo-0125', object='fine_tuning.job', organization_id='org-6wSwusi7I3PKRS8TM6zRaXzA', result_files=[], status='running', trained_tokens=None, training_file='file-EEoJR23JtdzTLfXpevnOzdsZ', validation_file=None, user_provided_suffix='roborregos', seed=589756509, integrations=[])\n",
      "FineTuningJob(id='ftjob-Gc812IDpCQMXpJL9adf6L1dr', created_at=1712375310, error=Error(code=None, message=None, param=None, error=None), fine_tuned_model='ft:gpt-3.5-turbo-0125:ixmatix:roborregos:9ArVJ9Nf', finished_at=1712375976, hyperparameters=Hyperparameters(n_epochs=3, batch_size=1, learning_rate_multiplier=8), model='gpt-3.5-turbo-0125', object='fine_tuning.job', organization_id='org-6wSwusi7I3PKRS8TM6zRaXzA', result_files=['file-YT0pCYIPGZWk2GQyN0yX8jOT'], status='succeeded', trained_tokens=66213, training_file='file-EEoJR23JtdzTLfXpevnOzdsZ', validation_file=None, user_provided_suffix='roborregos', seed=589756509, integrations=[])\n",
      "ft:gpt-3.5-turbo-0125:ixmatix:roborregos:9ArVJ9Nf\n"
     ]
    }
   ],
   "source": [
    "### Retrieve the state of the fine-tuning job\n",
    "import time\n",
    "\n",
    "while True:\n",
    "    status = client.fine_tuning.jobs.retrieve(job.id)\n",
    "    print(status)\n",
    "    if status.fine_tuned_model is not None:\n",
    "        print(status.fine_tuned_model)\n",
    "        break\n",
    "    time.sleep(100)"
   ]
  },
  {
   "cell_type": "code",
   "execution_count": 7,
   "metadata": {},
   "outputs": [
    {
     "name": "stdout",
     "output_type": "stream",
     "text": [
      "ChatCompletionMessage(content='go, kitchen; find, dish; pick, dish; go, bedroom; identify, standing + person; approach, tracker; give, dish.', role='assistant', function_call=None, tool_calls=None)\n"
     ]
    }
   ],
   "source": [
    "### Test the model \n",
    "model_name = client.fine_tuning.jobs.retrieve(job.id).fine_tuned_model\n",
    "system_prompt = \"You are a service robot for domestic applications. You were developed by RoBorregos team from Tec de Monterrey, from Mexico. You are given general purpose tasks in the form of natural language inside a house environment. You have in your architecture the modules of: navigation, manipulation, person recognition, object detection and human-robot interaction. Your job is to understand the task and divide it to actions proper to your modules, considering a logical flow of the actions. You can ask for clarification if the task is not clear enough. Try to abstract the verbs as much as possible. Divide each action with a semicolon. The actions should be in the form of: 'do x; do y; do z'. For example, for the prompt 'Locate a dish in the kitchen then get it and give it to Angel in the living room', the actions would be: 'go, kitchen; find, dish; grab, dish; go, living room; find, Angel; approach, Angel; give, dish.'. Another example is, for the prompt: 'Tell me what is the biggest object on the tv stand' and its actions are 'remember, location; go, tv stand; identify, biggest + object; go, past location; interact, biggest object information.'. Don't add single quotes\"\n",
    "\n",
    "completion = client.chat.completions.create(\n",
    "  model=model_name,\n",
    "  messages=[\n",
    "    {\"role\": \"system\", \"content\": system_prompt},\n",
    "    {\"role\": \"user\", \"content\": \"Navigate to the kitchen then find a dish and take it and deliver it to the standing person in the bedroom\"}\n",
    "  ]\n",
    ")\n",
    "print(completion.choices[0].message)"
   ]
  }
 ],
 "metadata": {
  "kernelspec": {
   "display_name": "ai-env",
   "language": "python",
   "name": "python3"
  },
  "language_info": {
   "codemirror_mode": {
    "name": "ipython",
    "version": 3
   },
   "file_extension": ".py",
   "mimetype": "text/x-python",
   "name": "python",
   "nbconvert_exporter": "python",
   "pygments_lexer": "ipython3",
   "version": "3.10.12"
  }
 },
 "nbformat": 4,
 "nbformat_minor": 2
}
